{
  "nbformat": 4,
  "nbformat_minor": 0,
  "metadata": {
    "accelerator": "GPU",
    "colab": {
      "name": "final_3.ipynb",
      "provenance": [],
      "collapsed_sections": [],
      "toc_visible": true,
      "machine_shape": "hm"
    },
    "kernelspec": {
      "display_name": "Python 3",
      "language": "python",
      "name": "python3"
    },
    "language_info": {
      "codemirror_mode": {
        "name": "ipython",
        "version": 3
      },
      "file_extension": ".py",
      "mimetype": "text/x-python",
      "name": "python",
      "nbconvert_exporter": "python",
      "pygments_lexer": "ipython3",
      "version": "3.8.5"
    }
  },
  "cells": [
    {
      "cell_type": "markdown",
      "metadata": {
        "id": "zNMD5M6mQ2YY"
      },
      "source": [
        "# Coursework 3: RNNs\n",
        "\n",
        "#### Instructions\n",
        "\n",
        "Please submit on CATe a zip file named *CW3_RNNs.zip* containing a version of this notebook with your answers. Write your answers in the cells below for each question.\n"
      ]
    },
    {
      "cell_type": "code",
      "metadata": {
        "colab": {
          "base_uri": "https://localhost:8080/"
        },
        "id": "vkYFyzS1uegO",
        "outputId": "9efda998-0caa-440f-d853-d60456fd433b"
      },
      "source": [
        "from google.colab import drive\n",
        "drive.mount('/content/drive')"
      ],
      "execution_count": 1,
      "outputs": [
        {
          "output_type": "stream",
          "text": [
            "Mounted at /content/drive\n"
          ],
          "name": "stdout"
        }
      ]
    },
    {
      "cell_type": "code",
      "metadata": {
        "id": "TBSWQqTs8zRH"
      },
      "source": [
        "! wget https://www.doc.ic.ac.uk/~pam213/co460_files/data_speech_commands_v0.02.zip\r\n",
        "! mkdir '/content/data_speech_commands_v0.02'\r\n",
        "! unzip data_speech_commands_v0.02.zip -d 'data_speech_commands_v0.02'"
      ],
      "execution_count": null,
      "outputs": []
    },
    {
      "cell_type": "markdown",
      "metadata": {
        "id": "LKehhGDF-Qte"
      },
      "source": [
        "## Recurrent models coursework\n",
        "\n",
        "This coursework is separated into a coding and a theory component.\n",
        "\n",
        "For the first part, you will use the Google Speech Commands v0.02 subset that you used in the RNN tutorial: http://www.doc.ic.ac.uk/~pam213/co460_files/ \n",
        "\n",
        "### Part 1 - Coding\n",
        "In this part you will have to:\n",
        "\n",
        "- Implement an LSTM\n",
        "- Implement a GRU\n",
        "\n",
        "### Part 2 - Theory\n",
        "\n",
        "Here you will answer some theoretical questions about RNNs -- no detailed proofs and no programming."
      ]
    },
    {
      "cell_type": "markdown",
      "metadata": {
        "id": "qaI4P8SZ-U2j"
      },
      "source": [
        "### Part 1: Coding"
      ]
    },
    {
      "cell_type": "markdown",
      "metadata": {
        "id": "bWGb-eUeXtex"
      },
      "source": [
        "### Dataset\n",
        "\n",
        "We will be using the Google [*Speech Commands*](https://www.tensorflow.org/tutorials/sequences/audio_recognition) v0.02 [1] dataset.\n",
        "\n",
        "[1] Warden, P. (2018). [Speech commands: A dataset for limited-vocabulary speech recognition](https://arxiv.org/abs/1804.03209). *arXiv preprint arXiv:1804.03209.*"
      ]
    },
    {
      "cell_type": "code",
      "metadata": {
        "id": "SSOxPuKyzopc"
      },
      "source": [
        "## MAKE SURE THIS POINTS INSIDE THE DATASET FOLDER.\n",
        "dataset_folder = \"/content/\" # this should change depending on where you have stored the data files"
      ],
      "execution_count": 11,
      "outputs": []
    },
    {
      "cell_type": "markdown",
      "metadata": {
        "id": "LXbOccJkzopc"
      },
      "source": [
        "### Initial code before coursework questions start:"
      ]
    },
    {
      "cell_type": "code",
      "metadata": {
        "id": "Qt3KzJzBPdHU"
      },
      "source": [
        "import math\n",
        "import os\n",
        "from collections import defaultdict\n",
        "\n",
        "import torch\n",
        "import torch.nn as nn\n",
        "from torch.autograd import Variable\n",
        "from torch.utils.data import Dataset\n",
        "import numpy as np\n",
        "from scipy.io.wavfile import read\n",
        "import librosa\n",
        "from matplotlib import pyplot as plt\n",
        "\n",
        "import datetime\n",
        "cuda = True if torch.cuda.is_available() else False\n",
        "\n",
        "Tensor = torch.cuda.FloatTensor if cuda else torch.FloatTensor\n",
        "\n",
        "torch.manual_seed(42)\n",
        "if torch.cuda.is_available():\n",
        "    torch.cuda.manual_seed_all(42)"
      ],
      "execution_count": 5,
      "outputs": []
    },
    {
      "cell_type": "code",
      "metadata": {
        "id": "RlxeJHv6zopd"
      },
      "source": [
        "import random\n",
        "def set_seed(seed_value):\n",
        "    \"\"\"Set seed for reproducibility.\n",
        "    \"\"\"\n",
        "    random.seed(seed_value)\n",
        "    np.random.seed(seed_value)\n",
        "    torch.manual_seed(seed_value)\n",
        "    torch.cuda.manual_seed_all(seed_value)\n",
        "\n",
        "set_seed(42)"
      ],
      "execution_count": 6,
      "outputs": []
    },
    {
      "cell_type": "code",
      "metadata": {
        "id": "QKSnqpAJLVwx"
      },
      "source": [
        "class SpeechCommandsDataset(Dataset):\n",
        "    \"\"\"Google Speech Commands dataset.\"\"\"\n",
        "\n",
        "    def __init__(self, root_dir, split):\n",
        "        \"\"\"\n",
        "        Args:\n",
        "            root_dir (string): Directory with all the data files.\n",
        "            split    (string): In [\"train\", \"valid\", \"test\"].\n",
        "        \"\"\"\n",
        "        self.root_dir = root_dir\n",
        "        self.split = split\n",
        "\n",
        "        self.number_of_classes = len(self.get_classes())\n",
        "\n",
        "        self.class_to_file = defaultdict(list)\n",
        "\n",
        "        self.valid_filenames = self.get_valid_filenames()\n",
        "        self.test_filenames = self.get_test_filenames()\n",
        "\n",
        "        for c in self.get_classes():\n",
        "            file_name_list = sorted(os.listdir(self.root_dir + \"data_speech_commands_v0.02/\" + c))\n",
        "            for filename in file_name_list:\n",
        "                if split == \"train\":\n",
        "                    if (filename not in self.valid_filenames[c]) and (filename not in self.test_filenames[c]):\n",
        "                        self.class_to_file[c].append(filename)\n",
        "                elif split == \"valid\":\n",
        "                    if filename in self.valid_filenames[c]:\n",
        "                        self.class_to_file[c].append(filename)\n",
        "                elif split == \"test\":\n",
        "                    if filename in self.test_filenames[c]:\n",
        "                        self.class_to_file[c].append(filename)\n",
        "                else:\n",
        "                    raise ValueError(\"Invalid split name.\")\n",
        "\n",
        "        self.filepath_list = list()\n",
        "        self.label_list = list()\n",
        "        for cc, c in enumerate(self.get_classes()):\n",
        "            f_extension = sorted(list(self.class_to_file[c]))\n",
        "            l_extension = [cc for i in f_extension]\n",
        "            f_extension = [self.root_dir + \"data_speech_commands_v0.02/\" + c + \"/\" + filename for filename in f_extension]\n",
        "            self.filepath_list.extend(f_extension)\n",
        "            self.label_list.extend(l_extension)\n",
        "        self.number_of_samples = len(self.filepath_list)\n",
        "\n",
        "    def __len__(self):\n",
        "        return self.number_of_samples\n",
        "\n",
        "    def __getitem__(self, idx):\n",
        "        sample = np.zeros((16000, ), dtype=np.float32)\n",
        "\n",
        "        sample_file = self.filepath_list[idx]\n",
        "\n",
        "        sample_from_file = read(sample_file)[1]\n",
        "        sample[:sample_from_file.size] = sample_from_file\n",
        "        sample = sample.reshape((16000, ))\n",
        "        \n",
        "        sample = librosa.feature.mfcc(y=sample, sr=16000, hop_length=512, n_fft=2048).transpose().astype(np.float32)\n",
        "\n",
        "        label = self.label_list[idx]\n",
        "\n",
        "        return sample, label\n",
        "\n",
        "    def get_classes(self):\n",
        "        return ['one', 'two', 'three']\n",
        "\n",
        "    def get_valid_filenames(self):\n",
        "        class_names = self.get_classes()\n",
        "\n",
        "        class_to_filename = defaultdict(set)\n",
        "        with open(self.root_dir + \"data_speech_commands_v0.02/validation_list.txt\", \"r\") as fp:\n",
        "            for line in fp:\n",
        "                clean_line = line.strip().split(\"/\")\n",
        "\n",
        "                if clean_line[0] in class_names:\n",
        "                    class_to_filename[clean_line[0]].add(clean_line[1])\n",
        "\n",
        "        return class_to_filename\n",
        "\n",
        "    def get_test_filenames(self):\n",
        "        class_names = self.get_classes()\n",
        "\n",
        "        class_to_filename = defaultdict(set)\n",
        "        with open(self.root_dir + \"data_speech_commands_v0.02/testing_list.txt\", \"r\") as fp:\n",
        "            for line in fp:\n",
        "                clean_line = line.strip().split(\"/\")\n",
        "\n",
        "                if clean_line[0] in class_names:\n",
        "                    class_to_filename[clean_line[0]].add(clean_line[1])\n",
        "\n",
        "        return class_to_filename"
      ],
      "execution_count": 7,
      "outputs": []
    },
    {
      "cell_type": "code",
      "metadata": {
        "id": "vx8ptirGKa9u"
      },
      "source": [
        "#dataset_folder = \"/content/\" ## the time is very slow if you do not download. very very very slow.\n",
        "train_dataset = SpeechCommandsDataset(dataset_folder,\n",
        "                                      \"train\")\n",
        "valid_dataset = SpeechCommandsDataset(dataset_folder,\n",
        "                                      \"valid\")\n",
        "\n",
        "test_dataset = SpeechCommandsDataset(dataset_folder,\n",
        "                                     \"test\")\n",
        "\n",
        "batch_size = 100\n",
        "\n",
        "\n",
        "num_epochs = 5\n",
        "valid_every_n_steps = 20\n",
        "train_loader = torch.utils.data.DataLoader(dataset=train_dataset,\n",
        "                                           batch_size=batch_size,\n",
        "                                           shuffle=True)\n",
        "valid_loader = torch.utils.data.DataLoader(dataset=valid_dataset,\n",
        "                                           batch_size=batch_size,\n",
        "                                           shuffle=False)\n",
        "\n",
        "test_loader = torch.utils.data.DataLoader(dataset=test_dataset,\n",
        "                                          batch_size=batch_size,\n",
        "                                          shuffle=False)"
      ],
      "execution_count": 12,
      "outputs": []
    },
    {
      "cell_type": "markdown",
      "metadata": {
        "id": "eJwOesOQOSh9"
      },
      "source": [
        "### Question 1:  Finalise the LSTM and GRU cells by completing the missing code\n",
        "\n",
        "You are allowed to use nn.Linear."
      ]
    },
    {
      "cell_type": "code",
      "metadata": {
        "id": "LQu9Yxfy-Wqj"
      },
      "source": [
        "class LSTMCell(nn.Module):\n",
        "    def __init__(self, input_size, hidden_size, bias=True):\n",
        "        super(LSTMCell, self).__init__()\n",
        "        self.input_size = input_size\n",
        "        self.hidden_size = hidden_size\n",
        "        self.bias = bias\n",
        "        \n",
        "        ########################################################################\n",
        "        ## START OF YOUR CODE - Question 1a) Complete the missing code\n",
        "        #######################################################################\n",
        "        self.x2h = nn.Linear(input_size, hidden_size * 4, bias=bias)\n",
        "        self.h2h = nn.Linear(hidden_size, hidden_size * 4, bias=bias)\n",
        "        \n",
        "        ########################################################################\n",
        "        ## END OF YOUR CODE\n",
        "        ########################################################################\n",
        "        self.reset_parameters()\n",
        "\n",
        "    def reset_parameters(self):\n",
        "        std = 1.0 / math.sqrt(self.hidden_size)\n",
        "        for w in self.parameters():\n",
        "            w.data.uniform_(-std, std)\n",
        "\n",
        "    def forward(self, input, hx=None):\n",
        "        if hx is None:\n",
        "            hx = input.new_zeros(input.size(0), self.hidden_size, requires_grad=False)\n",
        "            hx = (hx, hx)\n",
        "            \n",
        "        hx, cx = hx\n",
        "        \n",
        "        ########################################################################\n",
        "        ## START OF YOUR CODE - Question 1b) Complete the missing code\n",
        "        ########################################################################\n",
        "        gates = self.x2h(input) + self.h2h(hx)\n",
        "\n",
        "        input_g, forget_g, cell_g, output_g = gates.chunk(4, 1)\n",
        "\n",
        "        #four gates\n",
        "        i_t = torch.sigmoid(input_g)\n",
        "        f_t = torch.sigmoid(forget_g)\n",
        "        g_t = torch.tanh(cell_g)\n",
        "        o_t = torch.sigmoid(output_g)\n",
        "        \n",
        "        cy = cx * f_t + i_t * g_t\n",
        "\n",
        "        hy = o_t * torch.tanh(cy)\n",
        "        ########################################################################\n",
        "        ## END OF YOUR CODE\n",
        "        ########################################################################\n",
        "\n",
        "        return (hy, cy)\n",
        "\n",
        "class BasicRNNCell(nn.Module):\n",
        "    def __init__(self, input_size, hidden_size, bias=True, nonlinearity=\"tanh\"):\n",
        "        super(BasicRNNCell, self).__init__()\n",
        "        self.input_size = input_size\n",
        "        self.hidden_size = hidden_size\n",
        "        self.bias = bias\n",
        "        self.nonlinearity = nonlinearity\n",
        "        if self.nonlinearity not in [\"tanh\", \"relu\"]:\n",
        "            raise ValueError(\"Invalid nonlinearity selected for RNN.\")\n",
        "\n",
        "        self.x2h = nn.Linear(input_size, hidden_size, bias=bias)\n",
        "        self.h2h = nn.Linear(hidden_size, hidden_size, bias=bias)\n",
        "\n",
        "        self.reset_parameters()\n",
        "        \n",
        "\n",
        "    def reset_parameters(self):\n",
        "        std = 1.0 / math.sqrt(self.hidden_size)\n",
        "        for w in self.parameters():\n",
        "            w.data.uniform_(-std, std)\n",
        "\n",
        "            \n",
        "    def forward(self, input, hx=None):\n",
        "        if hx is None:\n",
        "            hx = input.new_zeros(input.size(0), self.hidden_size, requires_grad=False)\n",
        "\n",
        "        activation = getattr(nn.functional, self.nonlinearity)\n",
        "        hy = activation(self.x2h(input) + self.h2h(hx))\n",
        "\n",
        "        return hy\n",
        "\n",
        "    \n",
        "    \n",
        "class GRUCell(nn.Module):\n",
        "    def __init__(self, input_size, hidden_size, bias=True):\n",
        "        super(GRUCell, self).__init__()\n",
        "        self.input_size = input_size\n",
        "        self.hidden_size = hidden_size\n",
        "        self.bias = bias\n",
        "\n",
        "        ########################################################################\n",
        "        ## START OF YOUR CODE - Question 1c) Complete the missing code\n",
        "        ########################################################################\n",
        "        self.x2h = nn.Linear(input_size, 3 * hidden_size, bias=bias)\n",
        "        self.h2h = nn.Linear(hidden_size, 3 * hidden_size, bias=bias)\n",
        "        ########################################################################\n",
        "        ## END OF YOUR CODE\n",
        "        ########################################################################\n",
        "        self.reset_parameters()\n",
        "        \n",
        "\n",
        "    def reset_parameters(self):\n",
        "        std = 1.0 / math.sqrt(self.hidden_size)\n",
        "        for w in self.parameters():\n",
        "            w.data.uniform_(-std, std)\n",
        "\n",
        "    def forward(self, input, hx=None):\n",
        "        if hx is None:\n",
        "            hx = input.new_zeros(input.size(0), self.hidden_size, requires_grad=False)\n",
        "\n",
        "        ########################################################################\n",
        "        ## START OF YOUR CODE - Question 1d) Complete the missing code\n",
        "        ########################################################################\n",
        "        x_t = self.x2h(input)\n",
        "        h_t = self.h2h(hx)\n",
        "\n",
        "        x_reset, x_up, x_new = x_t.chunk(3, 1)\n",
        "        h_reset, h_up, h_new = h_t.chunk(3, 1)\n",
        "\n",
        "        reset_gate = torch.sigmoid(x_reset + h_reset)\n",
        "        update_gate = torch.sigmoid(x_up + h_up)\n",
        "        new_gate = torch.tanh(x_new + (reset_gate * h_new))\n",
        "\n",
        "        hy = update_gate * hx + (1 - update_gate) * new_gate \n",
        "        ########################################################################\n",
        "        ## END OF YOUR CODE\n",
        "        ########################################################################\n",
        "        \n",
        "        return hy"
      ],
      "execution_count": 13,
      "outputs": []
    },
    {
      "cell_type": "markdown",
      "metadata": {
        "id": "nsOG2OaQzopf"
      },
      "source": [
        "### Question 2:  Finalise the RNNModel and BidirRecurrentModel"
      ]
    },
    {
      "cell_type": "code",
      "metadata": {
        "id": "XP4Avr8nzopf"
      },
      "source": [
        "class RNNModel(nn.Module):\n",
        "    def __init__(self, mode, input_size, hidden_size, num_layers, bias, output_size):\n",
        "        super(RNNModel, self).__init__()\n",
        "        self.mode = mode\n",
        "        self.input_size = input_size\n",
        "        self.hidden_size = hidden_size\n",
        "        self.num_layers = num_layers\n",
        "        self.bias = bias\n",
        "        self.output_size = output_size\n",
        "        \n",
        "        self.rnn_cell_list = nn.ModuleList()\n",
        "        \n",
        "        if mode == 'LSTM':\n",
        "        ########################################################################\n",
        "        ## START OF YOUR CODE - Question 2a) Complete the missing code\n",
        "        #\n",
        "        #  Append the appropriate LSTM cells to rnn_cell_list\n",
        "        ########################################################################\n",
        "            self.rnn_cell_list.append(LSTMCell(self.input_size,\n",
        "                                                self.hidden_size,\n",
        "                                                self.bias))\n",
        "            for l in range(1, self.num_layers):\n",
        "                self.rnn_cell_list.append(LSTMCell(self.hidden_size,\n",
        "                                                    self.hidden_size,\n",
        "                                                    self.bias))\n",
        "                \n",
        "        ########################################################################\n",
        "        ## END OF YOUR CODE\n",
        "        ######################################################################## \n",
        "\n",
        "        elif mode == 'GRU':\n",
        "            \n",
        "        ########################################################################\n",
        "        ## START OF YOUR CODE - Question 2b) Complete the missing code\n",
        "        #\n",
        "        #  Append the appropriate GRU cells to rnn_cell_list\n",
        "        ########################################################################\n",
        "            self.rnn_cell_list.append(GRUCell(self.input_size,\n",
        "                                              self.hidden_size,\n",
        "                                              self.bias))\n",
        "            for l in range(1, self.num_layers):\n",
        "                self.rnn_cell_list.append(GRUCell(self.hidden_size,\n",
        "                                                  self.hidden_size,\n",
        "                                                  self.bias))\n",
        "\n",
        "        ########################################################################\n",
        "        ## END OF YOUR CODE\n",
        "        ########################################################################        \n",
        "        \n",
        "        elif mode == 'RNN_TANH':\n",
        "            \n",
        "                    \n",
        "        ########################################################################\n",
        "        ## START OF YOUR CODE - Question 2c) Complete the missing code\n",
        "        #\n",
        "        #  Append the appropriate RNN cells to rnn_cell_list\n",
        "        ########################################################################\n",
        "            self.rnn_cell_list.append(BasicRNNCell(self.input_size,\n",
        "                                                   self.hidden_size,\n",
        "                                                   self.bias,\n",
        "                                                   \"tanh\"))\n",
        "            for l in range(1, self.num_layers):\n",
        "                self.rnn_cell_list.append(BasicRNNCell(self.hidden_size,\n",
        "                                                       self.hidden_size,\n",
        "                                                       self.bias,\n",
        "                                                       \"tanh\"))\n",
        "\n",
        "        ########################################################################\n",
        "        ## END OF YOUR CODE\n",
        "        ########################################################################\n",
        "\n",
        "\n",
        "                \n",
        "        elif mode == 'RNN_RELU':\n",
        "            \n",
        "        ########################################################################\n",
        "        ## START OF YOUR CODE - Question 2d) Complete the missing code\n",
        "        #\n",
        "        #  Append the appropriate RNN cells to rnn_cell_list\n",
        "        ########################################################################\n",
        "            self.rnn_cell_list.append(BasicRNNCell(self.input_size,\n",
        "                                                   self.hidden_size,\n",
        "                                                   self.bias,\n",
        "                                                   \"relu\"))\n",
        "            for l in range(1, self.num_layers):\n",
        "                self.rnn_cell_list.append(BasicRNNCell(self.hidden_size,\n",
        "                                                   self.hidden_size,\n",
        "                                                   self.bias,\n",
        "                                                   \"relu\"))\n",
        "\n",
        "        ########################################################################\n",
        "        ## END OF YOUR CODE\n",
        "        ########################################################################\n",
        "\n",
        "\n",
        "        else:\n",
        "            raise ValueError(\"Invalid RNN mode selected.\")\n",
        "\n",
        "\n",
        "        self.att_fc = nn.Linear(self.hidden_size, 1)\n",
        "        self.fc = nn.Linear(self.hidden_size, self.output_size)\n",
        "\n",
        "        \n",
        "    def forward(self, input_data, hx=None):\n",
        "\n",
        "        outs = []\n",
        "        X = list(input_data.permute(1, 0, 2))\n",
        "        h0 = [None] * self.num_layers if hx is None else list(hx)\n",
        "        \n",
        "        # In this forward pass we want to create our RNN from the rnn cells,\n",
        "        # ..taking the hidden states from the final RNN layer and passing these \n",
        "        # ..through our fully connected layer (fc).\n",
        "        \n",
        "        # The multi-layered RNN should be able to run when the mode is either \n",
        "        # .. LSTM, GRU, RNN_TANH or RNN_RELU.\n",
        "        \n",
        "        ########################################################################\n",
        "        ## START OF YOUR CODE - Question 2e) Complete the missing code\n",
        "        #\n",
        "        #  HINT: You may need a special case for LSTMs\n",
        "        ########################################################################\n",
        "\n",
        "        for j, l in enumerate(self.rnn_cell_list):\n",
        "            # Define the first value of hx_minus_one\n",
        "            hx_minus_one = h0[j]\n",
        "            for i in range(input_data.shape[1]):\n",
        "                hx = l(X[i], hx_minus_one)\n",
        "                hx_minus_one = hx\n",
        "                X[i] = hx\n",
        "                if self.mode == 'LSTM':\n",
        "                  X[i], _ = hx\n",
        "\n",
        "        outs = X\n",
        "        ########################################################################\n",
        "        ## END OF YOUR CODE\n",
        "        ########################################################################\n",
        "        out = outs[-1].squeeze()\n",
        "\n",
        "        out = self.fc(out)\n",
        "        \n",
        "        return out\n",
        "    \n",
        "\n",
        "class BidirRecurrentModel(nn.Module):\n",
        "    def __init__(self, mode, input_size, hidden_size, num_layers, bias, output_size):\n",
        "        super(BidirRecurrentModel, self).__init__()\n",
        "        self.mode = mode\n",
        "        self.input_size = input_size\n",
        "        self.hidden_size = hidden_size\n",
        "        self.num_layers = num_layers\n",
        "        self.bias = bias\n",
        "        self.output_size = output_size\n",
        "        \n",
        "        self.rnn_cell_list = nn.ModuleList()\n",
        "        self.rnn_cell_list_rev = nn.ModuleList()\n",
        "        \n",
        "        ########################################################################\n",
        "        ## START OF YOUR CODE - Question 2f) Complete the missing code\n",
        "        #\n",
        "        #  Create code for the following 'mode' values:\n",
        "        # 'LSTM', 'GRU', 'RNN_TANH' and 'RNN_RELU'\n",
        "        ########################################################################\n",
        "        if mode == 'LSTM':\n",
        "        \n",
        "            self.rnn_cell_list.append(LSTMCell(self.input_size,\n",
        "                                              self.hidden_size,\n",
        "                                              self.bias))\n",
        "            for l in range(1, self.num_layers):\n",
        "                self.rnn_cell_list.append(LSTMCell(self.hidden_size,\n",
        "                                                    self.hidden_size,\n",
        "                                                    self.bias))\n",
        "                \n",
        "            self.rnn_cell_list_rev.append(LSTMCell(self.input_size,\n",
        "                                              self.hidden_size,\n",
        "                                              self.bias))\n",
        "            for l in range(1, self.num_layers):\n",
        "                self.rnn_cell_list_rev.append(LSTMCell(self.hidden_size,\n",
        "                                                    self.hidden_size,\n",
        "                                                    self.bias))\n",
        "\n",
        "        elif mode == 'GRU':\n",
        "            self.rnn_cell_list.append(GRUCell(self.input_size,\n",
        "                                              self.hidden_size,\n",
        "                                              self.bias))\n",
        "            for l in range(1, self.num_layers):\n",
        "                self.rnn_cell_list.append(GRUCell(self.hidden_size,\n",
        "                                                  self.hidden_size,\n",
        "                                                  self.bias))\n",
        "            self.rnn_cell_list_rev.append(GRUCell(self.input_size,\n",
        "                                              self.hidden_size,\n",
        "                                              self.bias))\n",
        "            for l in range(1, self.num_layers):\n",
        "                self.rnn_cell_list_rev.append(GRUCell(self.hidden_size,\n",
        "                                                    self.hidden_size,\n",
        "                                                    self.bias))\n",
        "\n",
        "        elif mode == 'RNN_TANH':\n",
        "            self.rnn_cell_list.append(BasicRNNCell(self.input_size,\n",
        "                                                   self.hidden_size,\n",
        "                                                   self.bias,\n",
        "                                                   \"tanh\"))\n",
        "            for l in range(1, self.num_layers):\n",
        "                self.rnn_cell_list.append(BasicRNNCell(self.hidden_size,\n",
        "                                                       self.hidden_size,\n",
        "                                                       self.bias,\n",
        "                                                       \"tanh\"))\n",
        "                \n",
        "            self.rnn_cell_list_rev.append(BasicRNNCell(self.input_size,\n",
        "                                                   self.hidden_size,\n",
        "                                                   self.bias,\n",
        "                                                   \"tanh\"))\n",
        "            for l in range(1, self.num_layers):\n",
        "                self.rnn_cell_list_rev.append(BasicRNNCell(self.hidden_size,\n",
        "                                                       self.hidden_size,\n",
        "                                                       self.bias,\n",
        "                                                       \"tanh\"))\n",
        "\n",
        "        elif mode == 'RNN_RELU':\n",
        "            self.rnn_cell_list.append(BasicRNNCell(self.input_size,\n",
        "                                                   self.hidden_size,\n",
        "                                                   self.bias,\n",
        "                                                   \"relu\"))\n",
        "            for l in range(1, self.num_layers):\n",
        "                self.rnn_cell_list.append(BasicRNNCell(self.hidden_size,\n",
        "                                                   self.hidden_size,\n",
        "                                                   self.bias,\n",
        "                                                   \"relu\"))\n",
        "                \n",
        "\n",
        "            self.rnn_cell_list_rev.append(BasicRNNCell(self.input_size,\n",
        "                                                   self.hidden_size,\n",
        "                                                   self.bias,\n",
        "                                                   \"relu\"))\n",
        "            for l in range(1, self.num_layers):\n",
        "                self.rnn_cell_list_rev.append(BasicRNNCell(self.hidden_size,\n",
        "                                                   self.hidden_size,\n",
        "                                                   self.bias,\n",
        "                                                   \"relu\"))\n",
        "\n",
        "        else:\n",
        "            raise ValueError(\"Invalid RNN mode selected.\")\n",
        "\n",
        "        self.fc = nn.Linear(self.hidden_size * 2, self.output_size)\n",
        "\n",
        "        ########################################################################\n",
        "        ## END OF YOUR CODE\n",
        "        ########################################################################\n",
        "        \n",
        "        \n",
        "    def forward(self, input_data, hx=None):\n",
        "        \n",
        "        # In this forward pass we want to create our Bidirectional RNN from the rnn cells,\n",
        "        # .. taking the hidden states from the final RNN layer with their reversed counterparts\n",
        "        # .. before concatening these and running them through the fully connected layer (fc)\n",
        "        \n",
        "        # The multi-layered RNN should be able to run when the mode is either \n",
        "        # .. LSTM, GRU, RNN_TANH or RNN_RELU.\n",
        "        \n",
        "        ########################################################################\n",
        "        ## START OF YOUR CODE  - Question 2g) Complete the missing code\n",
        "        ########################################################################\n",
        "\n",
        "        \n",
        "        h0 = [None] * self.num_layers if hx is None else list(hx)\n",
        "        hT = [None] * self.num_layers if hx is None else list(hx)\n",
        "\n",
        "        outs = []\n",
        "        outs_rev = []\n",
        "\n",
        "        X = list(input_data.permute(1, 0, 2))\n",
        "        XT = list(reversed(X))\n",
        "\n",
        "\n",
        "        for j, l in enumerate(self.rnn_cell_list):\n",
        "            hx_minus_one = h0[j]\n",
        "\n",
        "            for i in range(input_data.shape[1]):\n",
        "\n",
        "                hx = l(X[i], hx_minus_one)\n",
        "                hx_minus_one = hx\n",
        "                X[i] = hx\n",
        "                if self.mode == 'LSTM':\n",
        "                  X[i], _ = hx\n",
        "\n",
        "        outs = X\n",
        "\n",
        "        for j, l in enumerate(self.rnn_cell_list_rev):\n",
        "            hxt_minus_one = hT[j]\n",
        "\n",
        "            for i in range(input_data.shape[1]):\n",
        "\n",
        "                hx = l(XT[i], hxt_minus_one)\n",
        "                hxt_minus_one = hx\n",
        "                XT[i] = hx\n",
        "                if self.mode == 'LSTM':\n",
        "                  XT[i], _ = hx\n",
        "\n",
        "        outs_rev = XT\n",
        "\n",
        "        ########################################################################\n",
        "        ## END OF YOUR CODE\n",
        "        ########################################################################\n",
        "\n",
        "        out = outs[-1].squeeze()\n",
        "        out_rev = outs_rev[0].squeeze()\n",
        "        out = torch.cat((out, out_rev), 1)\n",
        "\n",
        "        out = self.fc(out)\n",
        "        return out"
      ],
      "execution_count": 14,
      "outputs": []
    },
    {
      "cell_type": "code",
      "metadata": {
        "id": "SJictTtG2wZv",
        "colab": {
          "base_uri": "https://localhost:8080/"
        },
        "outputId": "a48b2861-d90a-485d-e8c6-d39498cbea22"
      },
      "source": [
        "torch.cuda.is_available()"
      ],
      "execution_count": null,
      "outputs": [
        {
          "output_type": "execute_result",
          "data": {
            "text/plain": [
              "True"
            ]
          },
          "metadata": {
            "tags": []
          },
          "execution_count": 25
        }
      ]
    },
    {
      "cell_type": "code",
      "metadata": {
        "colab": {
          "base_uri": "https://localhost:8080/",
          "height": 35
        },
        "id": "Zur3v7Tu2y-K",
        "outputId": "d0094c54-6b6f-4cff-c6ed-111135fd1db6"
      },
      "source": [
        "torch.cuda.get_device_name(0)"
      ],
      "execution_count": null,
      "outputs": [
        {
          "output_type": "execute_result",
          "data": {
            "application/vnd.google.colaboratory.intrinsic+json": {
              "type": "string"
            },
            "text/plain": [
              "'Tesla P100-PCIE-16GB'"
            ]
          },
          "metadata": {
            "tags": []
          },
          "execution_count": 26
        }
      ]
    },
    {
      "cell_type": "markdown",
      "metadata": {
        "id": "KCpgok5Rzopg"
      },
      "source": [
        "The code below trains a network based on your code above. This should work without error:"
      ]
    },
    {
      "cell_type": "code",
      "metadata": {
        "colab": {
          "base_uri": "https://localhost:8080/"
        },
        "id": "djTCuoKCzopg",
        "outputId": "3ad0919e-7580-4794-8cb6-5f48d995ac2b"
      },
      "source": [
        "import time\n",
        "import datetime\n",
        "start = datetime.datetime.now() # TIME\n",
        "\n",
        "seq_dim, input_dim = train_dataset[0][0].shape\n",
        "output_dim = 3\n",
        "\n",
        "hidden_dim = 128\n",
        "layer_dim = 3\n",
        "bias = True\n",
        "\n",
        "### Change the code below to try running different models:\n",
        "#model = RNNModel(\"GRU\", input_dim, hidden_dim, layer_dim, bias, output_dim)\n",
        "model = BidirRecurrentModel(\"LSTM\", input_dim, hidden_dim, layer_dim, bias, output_dim)\n",
        "\n",
        "if torch.cuda.is_available():\n",
        "    model.cuda()\n",
        "    \n",
        "criterion = nn.CrossEntropyLoss()\n",
        "\n",
        "learning_rate = 0.00666\n",
        "optimizer = torch.optim.Adam(model.parameters(), lr=learning_rate)\n",
        "\n",
        "loss_list = []\n",
        "iter = 0\n",
        "max_v_accuracy = 0\n",
        "reported_t_accuracy = 0\n",
        "max_t_accuracy = 0\n",
        "for epoch in range(num_epochs):\n",
        "    for i, (audio, labels) in enumerate(train_loader):\n",
        "        if torch.cuda.is_available():\n",
        "            audio = Variable(audio.view(-1, seq_dim, input_dim).cuda())\n",
        "            labels = Variable(labels.cuda())\n",
        "        else:\n",
        "            audio = Variable(audio.view(-1, seq_dim, input_dim))\n",
        "            labels = Variable(labels)\n",
        "\n",
        "        optimizer.zero_grad()\n",
        "\n",
        "        outputs = model(audio)\n",
        "        loss = criterion(outputs, labels)\n",
        "        \n",
        "\n",
        "        if torch.cuda.is_available():\n",
        "            loss.cuda()\n",
        "        \n",
        "        loss.backward()\n",
        "        \n",
        "        optimizer.step()\n",
        "        \n",
        "        loss_list.append(loss.item())\n",
        "        iter += 1\n",
        "        \n",
        "        if iter % valid_every_n_steps == 0:\n",
        "            correct = 0\n",
        "            total = 0\n",
        "            for audio, labels in valid_loader:\n",
        "                if torch.cuda.is_available():\n",
        "                    audio = Variable(audio.view(-1, seq_dim, input_dim).cuda())\n",
        "                else:\n",
        "                    audio = Variable(audio.view(-1, seq_dim, input_dim))\n",
        "\n",
        "                outputs = model(audio)\n",
        "\n",
        "                _, predicted = torch.max(outputs.data, 1)\n",
        "\n",
        "                total += labels.size(0)\n",
        "\n",
        "                if torch.cuda.is_available():\n",
        "                    correct += (predicted.cpu() == labels.cpu()).sum()\n",
        "                else:\n",
        "                    correct += (predicted == labels).sum()\n",
        "\n",
        "            v_accuracy = 100 * correct // total\n",
        "            \n",
        "            is_best = False\n",
        "            if v_accuracy >= max_v_accuracy:\n",
        "                max_v_accuracy = v_accuracy\n",
        "                is_best = True\n",
        "\n",
        "            if is_best:\n",
        "                for audio, labels in test_loader:\n",
        "                    if torch.cuda.is_available():\n",
        "                        audio = Variable(audio.view(-1, seq_dim, input_dim).cuda())\n",
        "                    else:\n",
        "                        audio = Variable(audio.view(-1, seq_dim, input_dim))\n",
        "\n",
        "                    outputs = model(audio)\n",
        "\n",
        "                    _, predicted = torch.max(outputs.data, 1)\n",
        "\n",
        "                    total += labels.size(0)\n",
        "\n",
        "                    if torch.cuda.is_available():\n",
        "                        correct += (predicted.cpu() == labels.cpu()).sum()\n",
        "                    else:\n",
        "                        correct += (predicted == labels).sum()\n",
        "\n",
        "                t_accuracy = 100 * correct // total\n",
        "                reported_t_accuracy = t_accuracy\n",
        "\n",
        "            print('Iteration: {}. Loss: {}. V-Accuracy: {}  T-Accuracy: {}'.format(iter, loss.item(), v_accuracy, reported_t_accuracy))\n",
        "\n",
        "\n",
        "end = datetime.datetime.now()\n",
        "total_run_time = end - start\n",
        "print(total_run_time)"
      ],
      "execution_count": 25,
      "outputs": [
        {
          "output_type": "stream",
          "text": [
            "Iteration: 20. Loss: 1.1405329704284668. V-Accuracy: 52  T-Accuracy: 53\n",
            "Iteration: 40. Loss: 0.6883160471916199. V-Accuracy: 68  T-Accuracy: 67\n",
            "Iteration: 60. Loss: 0.5213497281074524. V-Accuracy: 70  T-Accuracy: 69\n",
            "Iteration: 80. Loss: 0.4629509449005127. V-Accuracy: 75  T-Accuracy: 75\n",
            "Iteration: 100. Loss: 0.4046543836593628. V-Accuracy: 84  T-Accuracy: 83\n",
            "Iteration: 120. Loss: 0.5473971962928772. V-Accuracy: 83  T-Accuracy: 83\n",
            "Iteration: 140. Loss: 0.31320905685424805. V-Accuracy: 87  T-Accuracy: 87\n",
            "Iteration: 160. Loss: 0.2577251195907593. V-Accuracy: 86  T-Accuracy: 87\n",
            "Iteration: 180. Loss: 0.35502928495407104. V-Accuracy: 83  T-Accuracy: 87\n",
            "Iteration: 200. Loss: 0.26939722895622253. V-Accuracy: 87  T-Accuracy: 88\n",
            "Iteration: 220. Loss: 0.2666100263595581. V-Accuracy: 90  T-Accuracy: 90\n",
            "Iteration: 240. Loss: 0.20458273589611053. V-Accuracy: 91  T-Accuracy: 90\n",
            "Iteration: 260. Loss: 0.15508081018924713. V-Accuracy: 90  T-Accuracy: 90\n",
            "Iteration: 280. Loss: 0.24855293333530426. V-Accuracy: 90  T-Accuracy: 90\n",
            "Iteration: 300. Loss: 0.24893175065517426. V-Accuracy: 92  T-Accuracy: 91\n",
            "Iteration: 320. Loss: 0.19264164566993713. V-Accuracy: 90  T-Accuracy: 91\n",
            "Iteration: 340. Loss: 0.1964634507894516. V-Accuracy: 90  T-Accuracy: 91\n",
            "Iteration: 360. Loss: 0.2339363545179367. V-Accuracy: 93  T-Accuracy: 92\n",
            "Iteration: 380. Loss: 0.3588024973869324. V-Accuracy: 92  T-Accuracy: 92\n",
            "Iteration: 400. Loss: 0.15701480209827423. V-Accuracy: 90  T-Accuracy: 92\n",
            "Iteration: 420. Loss: 0.2389083355665207. V-Accuracy: 92  T-Accuracy: 92\n",
            "Iteration: 440. Loss: 0.304656982421875. V-Accuracy: 90  T-Accuracy: 92\n",
            "Iteration: 460. Loss: 0.1447295993566513. V-Accuracy: 92  T-Accuracy: 92\n",
            "0:12:18.037556\n"
          ],
          "name": "stdout"
        }
      ]
    },
    {
      "cell_type": "markdown",
      "metadata": {
        "id": "0H6oJyOX-W7n"
      },
      "source": [
        "## Part 2: Theoretical questions"
      ]
    },
    {
      "cell_type": "markdown",
      "metadata": {
        "id": "CK0guD_b-ZAR"
      },
      "source": [
        "#### Theory question 1: \n",
        "What is the _vanishing gradients problem_ and why does it occur? Which activation functions are more or less impacted by this, and why?"
      ]
    },
    {
      "cell_type": "markdown",
      "metadata": {
        "id": "Ha2y337Li6b4"
      },
      "source": [
        "#### Your answers:\n",
        "* Your answer here describing vanishing gradients problem\n",
        "* Two examples of activation functions more impacted by vanishing gradients\n",
        "* Two examples of activation functions less impacted by vanishing gradients, why are they impacted less?\n",
        "\n",
        "\n",
        "1). vanishing gradients : \n",
        "During the training process, when the gradients of the loss function (corresponding to the parameters of the net) become smaller and smaller (near to 0), the vanishing gradients happen. With just a small (near to 0) gradient, the parameters in the net will almost not update, which means the net will not update and stop learning.\n",
        "\n",
        "The reason for vanishing gradients: when lots of activation functions(such as sigmoid and tanh) were sequentially used in a deep network, the vanishing gradients (or exploding gradients) might happen. Due to the chain rule, in a net with N layers, after N times multiplying with small values(the absolute value is smaller than 1), the magnitude of the update will decrease exponentially.\n",
        "\n",
        "2). Two examples more impacted. Sigmoid, TANH.\n",
        "\n",
        "3). Two examples less impacted. ReLU, Leaky ReLU.\n",
        "\n",
        "In the saturation region of the sigmoid and tanh functions, the function value changes very slowly. In this region, the derivative approaches zero. Besides, the absolute value of the function is also less than 1, and consecutive multiples may cause the gradient to disappear. But for the relu function, when x is greater than 0, the derivative of the function is equal to 1, and the value of the function is x, which avoids consecutive multiples gets zero to a certain extent. But when x is less than 0, the value of Relu is zero, which means that there is still the possibility of the gradient vanishing. Leakey relu avoids this situation to a certain extent. When x is greater than 0, it is the same as relu. When x is less than 0, the derivative is not 0 but is equal to a smaller value (0.1, 0.2, or adjusted according to the learning progress).\n",
        "\n",
        "\n"
      ]
    },
    {
      "cell_type": "markdown",
      "metadata": {
        "id": "BFScreQlzopg"
      },
      "source": [
        "#### Theory question 2: \n",
        "Why do LSTMs help address the vanishing gradient problem compared to a vanilla RNN?"
      ]
    },
    {
      "cell_type": "markdown",
      "metadata": {
        "id": "VrSv6oVKMyrY"
      },
      "source": [
        "The Gate.\r\n",
        "\r\n",
        "For LSTM, there is an equation:\r\n",
        "\\begin{equation}\r\n",
        "C_{t}=f_{t} * C_{t-1}+i_{t} * \\tilde{C}_{t}\r\n",
        "\\end{equation}\r\n",
        "\r\n",
        "From our class we could get the $\\frac{\\partial C_{t}}{\\partial C_{t-1}}$ :\r\n",
        "\r\n",
        "\\begin{equation}\r\n",
        "\\frac{\\partial C_{t}}{\\partial C_{t-1}}=\\frac{\\partial C_{t}}{\\partial f_{t}} \\frac{\\partial f_{t}}{\\partial h_{t-1}} \\frac{\\partial h_{t-1}}{\\partial C_{t-1}}+\\frac{\\partial C_{t}}{\\partial i_{t}} \\frac{\\partial i_{t}}{\\partial h_{t-1}} \\frac{\\partial h_{t-1}}{\\partial C_{t-1}}+\\frac{\\partial C_{t}}{\\partial C_{t-1}^{-}} \\frac{\\partial C_{t-1}}{\\partial h_{t-1}} \\frac{\\partial h_{t-1}}{\\partial C_{t-1}}+\\frac{\\partial C_{t}}{\\partial C_{t-1}}\r\n",
        "\\end{equation}\r\n",
        "\r\n",
        "\\begin{equation}\r\n",
        "\\frac{\\partial C_{t}}{\\partial C_{t-1}}=C_{t-1} \\sigma^{\\prime}(.) W_{f} * o_{t-1} \\tanh \\left(C_{t-1}\\right)+\\tilde{C}_{t} \\sigma^{\\prime}(.) W_{i} * o_{t-1} \\tanh \\left(C_{t-1}\\right)+i_{t} \\tanh ^{\\prime}(.) W_{c} * o_{t-1} \\tanh \\left(C_{t-1}\\right)+f_t\r\n",
        "\\end{equation}\r\n",
        "\r\n",
        "Now, let's notice the difference between LSTM and RNN. For RNN, the value of $\\frac{\\partial h_{t}}{\\partial h_{t-1}}$ will always locate in [0,1] or greater than 1,which could lead to the vanishing gradient problem( or exploding ). But if there are a huge amount time steps for LSTM, the LSTM net will not convert to 0 or infinity. When LSTM has the trend to convert to 0, the $f_t$ will be increased and let the $\\frac{\\partial C_{t}}{\\partial C_{t-1}}$ to near to 1. In this way, the vanishing gradient could be prevented."
      ]
    },
    {
      "cell_type": "markdown",
      "metadata": {
        "id": "BpefJuwe_c8o"
      },
      "source": [
        "#### Theory question 3: \n",
        "\n",
        "The plot below shows the training curves for three models A, B, and C, trained on the same dataset up to 100 epochs. The three models are a RNN, a LSTM and a GRU, not necessarily in that order.\n",
        "\n",
        "* Which could plausibly be which? Why? Please explain your reasoning.\n",
        "\n",
        "(In the cell below please set the values for A_model, B_model and C_model to be 'RNN', 'LSTM' or 'GRU'. This needs to be exact for the automatic marking.)"
      ]
    },
    {
      "cell_type": "code",
      "metadata": {
        "id": "FBJJMuOUV-jJ",
        "scrolled": false,
        "colab": {
          "base_uri": "https://localhost:8080/",
          "height": 301
        },
        "outputId": "ffc0b17a-8b46-40a4-fad2-6bdbec32b5d4"
      },
      "source": [
        "from IPython.display import Image, display\n",
        "display(Image(filename='Performance by epoch.png', width=550))"
      ],
      "execution_count": null,
      "outputs": [
        {
          "output_type": "display_data",
          "data": {
            "image/png": "[encoded data removed]",
            "text/plain": [
              "<IPython.core.display.Image object>"
            ]
          },
          "metadata": {
            "tags": [],
            "image/png": {
              "width": 550
            }
          }
        }
      ]
    },
    {
      "cell_type": "code",
      "metadata": {
        "id": "mSLUpotezoph"
      },
      "source": [
        "# Answers below:\n",
        "\n",
        "A_model = 'GRU'\n",
        "B_model = 'LSTM'\n",
        "C_model = 'RNN'\n",
        "\n",
        "# Give your reasons below:\n"
      ],
      "execution_count": null,
      "outputs": []
    },
    {
      "cell_type": "markdown",
      "metadata": {
        "id": "E6DgiKG7TXWl"
      },
      "source": [
        "**C is RNN**: \r\n",
        "It is obvious that the C is RNN. The performance increased dramatically and became smooth firstly. These phenomenons means that the gradient vanishing happend quickly, which means that the model C does not have the forget gates like GRU and LSTM. And the performance is the worst among the three model.\r\n",
        "\r\n",
        "**B is LSTM**, **A is GRU**:\r\n",
        "One of the differences between GRU and LSTM is that GRU has less parameters(75% of LSTM). So compared with GRU, LSTM needs more epoch(time) to train to get the best performance. So A is GRU and B is LSTM.\r\n",
        "\r\n"
      ]
    },
    {
      "cell_type": "markdown",
      "metadata": {
        "id": "CuVimlnnzoph"
      },
      "source": [
        "#### Theory question 4: \n",
        "\n",
        "When might you choose to use each of the three different types of models?"
      ]
    },
    {
      "cell_type": "markdown",
      "metadata": {
        "id": "NuLS-d3LkOUR"
      },
      "source": [
        "#### Your answers:\n",
        "* Type of problem when best to use vanilla RNN:\n",
        "* Type of problem to use GRU:\n",
        "* Type of problem to use LSTM:\n",
        "\n",
        "\n",
        "RNN: the problem that is not complex and that does not include long-time-range correlation data in its inputs.\n",
        "\n",
        "GRU: If the time and resources are not enough, (for example, in some cases we need to perform rapid iterations for our products) GRU might be a good choice, because GRU has fewer parameters and its architecture is simpler than LSTM, which allows people to tune and code quickly. \n",
        "\n",
        "\n",
        "LSTM: The \"memory\" cell of LSTM is independent, while the \"memory\" cell of GRU is controlled by the update gate. From theory, LSTM cells should remember longer sequences than GRUs. So LSTM might be chosen to deal with some difficult problems. For example, the input contains a huge amount of long data, or the problem needs to deal with very long-time-range correlation data. "
      ]
    }
  ]
}